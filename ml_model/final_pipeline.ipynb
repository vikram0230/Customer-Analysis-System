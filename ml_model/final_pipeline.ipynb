{
 "cells": [
  {
   "cell_type": "code",
   "execution_count": 14,
   "metadata": {},
   "outputs": [],
   "source": [
    "import pandas as pd\n",
    "import numpy as np\n",
    "import matplotlib.pyplot as plt\n",
    "import seaborn as sns\n",
    "from datetime import timedelta\n",
    "\n",
    "pd.set_option('display.max_columns', None)"
   ]
  },
  {
   "cell_type": "code",
   "execution_count": 15,
   "metadata": {},
   "outputs": [],
   "source": [
    "train_data = pd.read_csv('train_data.csv')\n",
    "train_data = train_data.infer_objects()\n",
    "\n",
    "val_data = pd.read_csv('val_data.csv')\n",
    "val_data = val_data.infer_objects()\n",
    "\n",
    "pd.set_option('display.max_columns', None)"
   ]
  },
  {
   "cell_type": "code",
   "execution_count": null,
   "metadata": {},
   "outputs": [],
   "source": [
    "# Filtering columns for model deployment\n",
    "\n",
    "train_data_filtered = train_data.drop(labels=['is_canceled','adr','reservation_status','reservation_status_date','hotel',\n",
    "    'assigned_room_type','lead_time'],axis=1)\n",
    "val_data_filtered = val_data.drop(labels=['is_canceled','adr','reservation_status','reservation_status_date','hotel',\n",
    "    'assigned_room_type','lead_time'],axis=1)"
   ]
  },
  {
   "cell_type": "code",
   "execution_count": 16,
   "metadata": {},
   "outputs": [
    {
     "data": {
      "text/html": [
       "<div>\n",
       "<style scoped>\n",
       "    .dataframe tbody tr th:only-of-type {\n",
       "        vertical-align: middle;\n",
       "    }\n",
       "\n",
       "    .dataframe tbody tr th {\n",
       "        vertical-align: top;\n",
       "    }\n",
       "\n",
       "    .dataframe thead th {\n",
       "        text-align: right;\n",
       "    }\n",
       "</style>\n",
       "<table border=\"1\" class=\"dataframe\">\n",
       "  <thead>\n",
       "    <tr style=\"text-align: right;\">\n",
       "      <th></th>\n",
       "      <th>hotel</th>\n",
       "      <th>is_canceled</th>\n",
       "      <th>lead_time</th>\n",
       "      <th>arrival_date_year</th>\n",
       "      <th>arrival_date_month</th>\n",
       "      <th>arrival_date_week_number</th>\n",
       "      <th>arrival_date_day_of_month</th>\n",
       "      <th>stays_in_weekend_nights</th>\n",
       "      <th>stays_in_week_nights</th>\n",
       "      <th>adults</th>\n",
       "      <th>children</th>\n",
       "      <th>babies</th>\n",
       "      <th>meal</th>\n",
       "      <th>country</th>\n",
       "      <th>market_segment</th>\n",
       "      <th>distribution_channel</th>\n",
       "      <th>is_repeated_guest</th>\n",
       "      <th>previous_cancellations</th>\n",
       "      <th>previous_bookings_not_canceled</th>\n",
       "      <th>reserved_room_type</th>\n",
       "      <th>assigned_room_type</th>\n",
       "      <th>booking_changes</th>\n",
       "      <th>deposit_type</th>\n",
       "      <th>agent</th>\n",
       "      <th>company</th>\n",
       "      <th>days_in_waiting_list</th>\n",
       "      <th>customer_type</th>\n",
       "      <th>adr</th>\n",
       "      <th>required_car_parking_spaces</th>\n",
       "      <th>total_of_special_requests</th>\n",
       "      <th>reservation_status</th>\n",
       "      <th>reservation_status_date</th>\n",
       "    </tr>\n",
       "  </thead>\n",
       "  <tbody>\n",
       "    <tr>\n",
       "      <th>0</th>\n",
       "      <td>City Hotel</td>\n",
       "      <td>0</td>\n",
       "      <td>17</td>\n",
       "      <td>2015</td>\n",
       "      <td>October</td>\n",
       "      <td>40</td>\n",
       "      <td>1</td>\n",
       "      <td>0</td>\n",
       "      <td>3</td>\n",
       "      <td>2</td>\n",
       "      <td>0.0</td>\n",
       "      <td>0</td>\n",
       "      <td>BB</td>\n",
       "      <td>PRT</td>\n",
       "      <td>Online TA</td>\n",
       "      <td>TA/TO</td>\n",
       "      <td>0</td>\n",
       "      <td>0</td>\n",
       "      <td>0</td>\n",
       "      <td>A</td>\n",
       "      <td>A</td>\n",
       "      <td>0</td>\n",
       "      <td>No Deposit</td>\n",
       "      <td>9.0</td>\n",
       "      <td>NaN</td>\n",
       "      <td>0</td>\n",
       "      <td>Contract</td>\n",
       "      <td>113.33</td>\n",
       "      <td>0</td>\n",
       "      <td>2</td>\n",
       "      <td>Check-Out</td>\n",
       "      <td>2015-10-04</td>\n",
       "    </tr>\n",
       "    <tr>\n",
       "      <th>1</th>\n",
       "      <td>City Hotel</td>\n",
       "      <td>1</td>\n",
       "      <td>99</td>\n",
       "      <td>2016</td>\n",
       "      <td>July</td>\n",
       "      <td>30</td>\n",
       "      <td>21</td>\n",
       "      <td>0</td>\n",
       "      <td>1</td>\n",
       "      <td>2</td>\n",
       "      <td>1.0</td>\n",
       "      <td>0</td>\n",
       "      <td>BB</td>\n",
       "      <td>ESP</td>\n",
       "      <td>Online TA</td>\n",
       "      <td>TA/TO</td>\n",
       "      <td>0</td>\n",
       "      <td>0</td>\n",
       "      <td>0</td>\n",
       "      <td>A</td>\n",
       "      <td>A</td>\n",
       "      <td>0</td>\n",
       "      <td>No Deposit</td>\n",
       "      <td>9.0</td>\n",
       "      <td>NaN</td>\n",
       "      <td>0</td>\n",
       "      <td>Transient</td>\n",
       "      <td>130.50</td>\n",
       "      <td>0</td>\n",
       "      <td>0</td>\n",
       "      <td>Canceled</td>\n",
       "      <td>2016-06-09</td>\n",
       "    </tr>\n",
       "    <tr>\n",
       "      <th>2</th>\n",
       "      <td>City Hotel</td>\n",
       "      <td>1</td>\n",
       "      <td>156</td>\n",
       "      <td>2017</td>\n",
       "      <td>May</td>\n",
       "      <td>19</td>\n",
       "      <td>12</td>\n",
       "      <td>1</td>\n",
       "      <td>2</td>\n",
       "      <td>1</td>\n",
       "      <td>0.0</td>\n",
       "      <td>0</td>\n",
       "      <td>BB</td>\n",
       "      <td>USA</td>\n",
       "      <td>Online TA</td>\n",
       "      <td>TA/TO</td>\n",
       "      <td>0</td>\n",
       "      <td>0</td>\n",
       "      <td>0</td>\n",
       "      <td>A</td>\n",
       "      <td>A</td>\n",
       "      <td>0</td>\n",
       "      <td>No Deposit</td>\n",
       "      <td>9.0</td>\n",
       "      <td>NaN</td>\n",
       "      <td>0</td>\n",
       "      <td>Transient</td>\n",
       "      <td>130.80</td>\n",
       "      <td>0</td>\n",
       "      <td>0</td>\n",
       "      <td>Canceled</td>\n",
       "      <td>2016-12-07</td>\n",
       "    </tr>\n",
       "    <tr>\n",
       "      <th>3</th>\n",
       "      <td>City Hotel</td>\n",
       "      <td>1</td>\n",
       "      <td>129</td>\n",
       "      <td>2017</td>\n",
       "      <td>June</td>\n",
       "      <td>22</td>\n",
       "      <td>2</td>\n",
       "      <td>1</td>\n",
       "      <td>2</td>\n",
       "      <td>2</td>\n",
       "      <td>0.0</td>\n",
       "      <td>0</td>\n",
       "      <td>BB</td>\n",
       "      <td>PRT</td>\n",
       "      <td>Groups</td>\n",
       "      <td>TA/TO</td>\n",
       "      <td>0</td>\n",
       "      <td>0</td>\n",
       "      <td>0</td>\n",
       "      <td>A</td>\n",
       "      <td>A</td>\n",
       "      <td>0</td>\n",
       "      <td>Non Refund</td>\n",
       "      <td>154.0</td>\n",
       "      <td>NaN</td>\n",
       "      <td>0</td>\n",
       "      <td>Transient</td>\n",
       "      <td>130.00</td>\n",
       "      <td>0</td>\n",
       "      <td>0</td>\n",
       "      <td>Canceled</td>\n",
       "      <td>2017-01-24</td>\n",
       "    </tr>\n",
       "    <tr>\n",
       "      <th>4</th>\n",
       "      <td>City Hotel</td>\n",
       "      <td>1</td>\n",
       "      <td>21</td>\n",
       "      <td>2015</td>\n",
       "      <td>October</td>\n",
       "      <td>44</td>\n",
       "      <td>31</td>\n",
       "      <td>2</td>\n",
       "      <td>4</td>\n",
       "      <td>2</td>\n",
       "      <td>0.0</td>\n",
       "      <td>0</td>\n",
       "      <td>BB</td>\n",
       "      <td>PRT</td>\n",
       "      <td>Online TA</td>\n",
       "      <td>TA/TO</td>\n",
       "      <td>0</td>\n",
       "      <td>1</td>\n",
       "      <td>0</td>\n",
       "      <td>A</td>\n",
       "      <td>A</td>\n",
       "      <td>0</td>\n",
       "      <td>No Deposit</td>\n",
       "      <td>9.0</td>\n",
       "      <td>NaN</td>\n",
       "      <td>0</td>\n",
       "      <td>Contract</td>\n",
       "      <td>105.79</td>\n",
       "      <td>0</td>\n",
       "      <td>0</td>\n",
       "      <td>Canceled</td>\n",
       "      <td>2015-10-26</td>\n",
       "    </tr>\n",
       "    <tr>\n",
       "      <th>...</th>\n",
       "      <td>...</td>\n",
       "      <td>...</td>\n",
       "      <td>...</td>\n",
       "      <td>...</td>\n",
       "      <td>...</td>\n",
       "      <td>...</td>\n",
       "      <td>...</td>\n",
       "      <td>...</td>\n",
       "      <td>...</td>\n",
       "      <td>...</td>\n",
       "      <td>...</td>\n",
       "      <td>...</td>\n",
       "      <td>...</td>\n",
       "      <td>...</td>\n",
       "      <td>...</td>\n",
       "      <td>...</td>\n",
       "      <td>...</td>\n",
       "      <td>...</td>\n",
       "      <td>...</td>\n",
       "      <td>...</td>\n",
       "      <td>...</td>\n",
       "      <td>...</td>\n",
       "      <td>...</td>\n",
       "      <td>...</td>\n",
       "      <td>...</td>\n",
       "      <td>...</td>\n",
       "      <td>...</td>\n",
       "      <td>...</td>\n",
       "      <td>...</td>\n",
       "      <td>...</td>\n",
       "      <td>...</td>\n",
       "      <td>...</td>\n",
       "    </tr>\n",
       "    <tr>\n",
       "      <th>55481</th>\n",
       "      <td>City Hotel</td>\n",
       "      <td>0</td>\n",
       "      <td>215</td>\n",
       "      <td>2017</td>\n",
       "      <td>August</td>\n",
       "      <td>34</td>\n",
       "      <td>25</td>\n",
       "      <td>0</td>\n",
       "      <td>1</td>\n",
       "      <td>2</td>\n",
       "      <td>3.0</td>\n",
       "      <td>0</td>\n",
       "      <td>BB</td>\n",
       "      <td>GBR</td>\n",
       "      <td>Direct</td>\n",
       "      <td>Direct</td>\n",
       "      <td>0</td>\n",
       "      <td>0</td>\n",
       "      <td>0</td>\n",
       "      <td>G</td>\n",
       "      <td>G</td>\n",
       "      <td>0</td>\n",
       "      <td>No Deposit</td>\n",
       "      <td>14.0</td>\n",
       "      <td>NaN</td>\n",
       "      <td>0</td>\n",
       "      <td>Transient</td>\n",
       "      <td>245.00</td>\n",
       "      <td>0</td>\n",
       "      <td>1</td>\n",
       "      <td>Check-Out</td>\n",
       "      <td>2017-08-26</td>\n",
       "    </tr>\n",
       "    <tr>\n",
       "      <th>55482</th>\n",
       "      <td>City Hotel</td>\n",
       "      <td>1</td>\n",
       "      <td>229</td>\n",
       "      <td>2017</td>\n",
       "      <td>July</td>\n",
       "      <td>28</td>\n",
       "      <td>12</td>\n",
       "      <td>1</td>\n",
       "      <td>4</td>\n",
       "      <td>2</td>\n",
       "      <td>0.0</td>\n",
       "      <td>0</td>\n",
       "      <td>BB</td>\n",
       "      <td>PRT</td>\n",
       "      <td>Groups</td>\n",
       "      <td>TA/TO</td>\n",
       "      <td>0</td>\n",
       "      <td>0</td>\n",
       "      <td>0</td>\n",
       "      <td>A</td>\n",
       "      <td>A</td>\n",
       "      <td>0</td>\n",
       "      <td>Non Refund</td>\n",
       "      <td>NaN</td>\n",
       "      <td>NaN</td>\n",
       "      <td>0</td>\n",
       "      <td>Transient</td>\n",
       "      <td>110.00</td>\n",
       "      <td>0</td>\n",
       "      <td>0</td>\n",
       "      <td>Canceled</td>\n",
       "      <td>2016-11-25</td>\n",
       "    </tr>\n",
       "    <tr>\n",
       "      <th>55483</th>\n",
       "      <td>City Hotel</td>\n",
       "      <td>0</td>\n",
       "      <td>0</td>\n",
       "      <td>2016</td>\n",
       "      <td>January</td>\n",
       "      <td>4</td>\n",
       "      <td>19</td>\n",
       "      <td>0</td>\n",
       "      <td>1</td>\n",
       "      <td>1</td>\n",
       "      <td>0.0</td>\n",
       "      <td>0</td>\n",
       "      <td>BB</td>\n",
       "      <td>PRT</td>\n",
       "      <td>Corporate</td>\n",
       "      <td>Corporate</td>\n",
       "      <td>0</td>\n",
       "      <td>0</td>\n",
       "      <td>0</td>\n",
       "      <td>A</td>\n",
       "      <td>A</td>\n",
       "      <td>0</td>\n",
       "      <td>No Deposit</td>\n",
       "      <td>180.0</td>\n",
       "      <td>NaN</td>\n",
       "      <td>0</td>\n",
       "      <td>Transient</td>\n",
       "      <td>66.00</td>\n",
       "      <td>1</td>\n",
       "      <td>0</td>\n",
       "      <td>Check-Out</td>\n",
       "      <td>2016-01-20</td>\n",
       "    </tr>\n",
       "    <tr>\n",
       "      <th>55484</th>\n",
       "      <td>City Hotel</td>\n",
       "      <td>0</td>\n",
       "      <td>53</td>\n",
       "      <td>2015</td>\n",
       "      <td>August</td>\n",
       "      <td>35</td>\n",
       "      <td>24</td>\n",
       "      <td>1</td>\n",
       "      <td>1</td>\n",
       "      <td>2</td>\n",
       "      <td>0.0</td>\n",
       "      <td>0</td>\n",
       "      <td>BB</td>\n",
       "      <td>ESP</td>\n",
       "      <td>Groups</td>\n",
       "      <td>TA/TO</td>\n",
       "      <td>0</td>\n",
       "      <td>0</td>\n",
       "      <td>0</td>\n",
       "      <td>A</td>\n",
       "      <td>A</td>\n",
       "      <td>0</td>\n",
       "      <td>No Deposit</td>\n",
       "      <td>1.0</td>\n",
       "      <td>NaN</td>\n",
       "      <td>0</td>\n",
       "      <td>Transient-Party</td>\n",
       "      <td>62.00</td>\n",
       "      <td>0</td>\n",
       "      <td>0</td>\n",
       "      <td>Check-Out</td>\n",
       "      <td>2015-08-26</td>\n",
       "    </tr>\n",
       "    <tr>\n",
       "      <th>55485</th>\n",
       "      <td>City Hotel</td>\n",
       "      <td>0</td>\n",
       "      <td>236</td>\n",
       "      <td>2016</td>\n",
       "      <td>October</td>\n",
       "      <td>43</td>\n",
       "      <td>22</td>\n",
       "      <td>2</td>\n",
       "      <td>3</td>\n",
       "      <td>1</td>\n",
       "      <td>1.0</td>\n",
       "      <td>0</td>\n",
       "      <td>BB</td>\n",
       "      <td>CHE</td>\n",
       "      <td>Direct</td>\n",
       "      <td>Direct</td>\n",
       "      <td>0</td>\n",
       "      <td>0</td>\n",
       "      <td>0</td>\n",
       "      <td>B</td>\n",
       "      <td>B</td>\n",
       "      <td>0</td>\n",
       "      <td>No Deposit</td>\n",
       "      <td>14.0</td>\n",
       "      <td>NaN</td>\n",
       "      <td>0</td>\n",
       "      <td>Transient-Party</td>\n",
       "      <td>81.28</td>\n",
       "      <td>0</td>\n",
       "      <td>0</td>\n",
       "      <td>Check-Out</td>\n",
       "      <td>2016-10-27</td>\n",
       "    </tr>\n",
       "  </tbody>\n",
       "</table>\n",
       "<p>55486 rows × 32 columns</p>\n",
       "</div>"
      ],
      "text/plain": [
       "            hotel  is_canceled  lead_time  arrival_date_year  \\\n",
       "0      City Hotel            0         17               2015   \n",
       "1      City Hotel            1         99               2016   \n",
       "2      City Hotel            1        156               2017   \n",
       "3      City Hotel            1        129               2017   \n",
       "4      City Hotel            1         21               2015   \n",
       "...           ...          ...        ...                ...   \n",
       "55481  City Hotel            0        215               2017   \n",
       "55482  City Hotel            1        229               2017   \n",
       "55483  City Hotel            0          0               2016   \n",
       "55484  City Hotel            0         53               2015   \n",
       "55485  City Hotel            0        236               2016   \n",
       "\n",
       "      arrival_date_month  arrival_date_week_number  arrival_date_day_of_month  \\\n",
       "0                October                        40                          1   \n",
       "1                   July                        30                         21   \n",
       "2                    May                        19                         12   \n",
       "3                   June                        22                          2   \n",
       "4                October                        44                         31   \n",
       "...                  ...                       ...                        ...   \n",
       "55481             August                        34                         25   \n",
       "55482               July                        28                         12   \n",
       "55483            January                         4                         19   \n",
       "55484             August                        35                         24   \n",
       "55485            October                        43                         22   \n",
       "\n",
       "       stays_in_weekend_nights  stays_in_week_nights  adults  children  \\\n",
       "0                            0                     3       2       0.0   \n",
       "1                            0                     1       2       1.0   \n",
       "2                            1                     2       1       0.0   \n",
       "3                            1                     2       2       0.0   \n",
       "4                            2                     4       2       0.0   \n",
       "...                        ...                   ...     ...       ...   \n",
       "55481                        0                     1       2       3.0   \n",
       "55482                        1                     4       2       0.0   \n",
       "55483                        0                     1       1       0.0   \n",
       "55484                        1                     1       2       0.0   \n",
       "55485                        2                     3       1       1.0   \n",
       "\n",
       "       babies meal country market_segment distribution_channel  \\\n",
       "0           0   BB     PRT      Online TA                TA/TO   \n",
       "1           0   BB     ESP      Online TA                TA/TO   \n",
       "2           0   BB     USA      Online TA                TA/TO   \n",
       "3           0   BB     PRT         Groups                TA/TO   \n",
       "4           0   BB     PRT      Online TA                TA/TO   \n",
       "...       ...  ...     ...            ...                  ...   \n",
       "55481       0   BB     GBR         Direct               Direct   \n",
       "55482       0   BB     PRT         Groups                TA/TO   \n",
       "55483       0   BB     PRT      Corporate            Corporate   \n",
       "55484       0   BB     ESP         Groups                TA/TO   \n",
       "55485       0   BB     CHE         Direct               Direct   \n",
       "\n",
       "       is_repeated_guest  previous_cancellations  \\\n",
       "0                      0                       0   \n",
       "1                      0                       0   \n",
       "2                      0                       0   \n",
       "3                      0                       0   \n",
       "4                      0                       1   \n",
       "...                  ...                     ...   \n",
       "55481                  0                       0   \n",
       "55482                  0                       0   \n",
       "55483                  0                       0   \n",
       "55484                  0                       0   \n",
       "55485                  0                       0   \n",
       "\n",
       "       previous_bookings_not_canceled reserved_room_type assigned_room_type  \\\n",
       "0                                   0                  A                  A   \n",
       "1                                   0                  A                  A   \n",
       "2                                   0                  A                  A   \n",
       "3                                   0                  A                  A   \n",
       "4                                   0                  A                  A   \n",
       "...                               ...                ...                ...   \n",
       "55481                               0                  G                  G   \n",
       "55482                               0                  A                  A   \n",
       "55483                               0                  A                  A   \n",
       "55484                               0                  A                  A   \n",
       "55485                               0                  B                  B   \n",
       "\n",
       "       booking_changes deposit_type  agent  company  days_in_waiting_list  \\\n",
       "0                    0   No Deposit    9.0      NaN                     0   \n",
       "1                    0   No Deposit    9.0      NaN                     0   \n",
       "2                    0   No Deposit    9.0      NaN                     0   \n",
       "3                    0   Non Refund  154.0      NaN                     0   \n",
       "4                    0   No Deposit    9.0      NaN                     0   \n",
       "...                ...          ...    ...      ...                   ...   \n",
       "55481                0   No Deposit   14.0      NaN                     0   \n",
       "55482                0   Non Refund    NaN      NaN                     0   \n",
       "55483                0   No Deposit  180.0      NaN                     0   \n",
       "55484                0   No Deposit    1.0      NaN                     0   \n",
       "55485                0   No Deposit   14.0      NaN                     0   \n",
       "\n",
       "         customer_type     adr  required_car_parking_spaces  \\\n",
       "0             Contract  113.33                            0   \n",
       "1            Transient  130.50                            0   \n",
       "2            Transient  130.80                            0   \n",
       "3            Transient  130.00                            0   \n",
       "4             Contract  105.79                            0   \n",
       "...                ...     ...                          ...   \n",
       "55481        Transient  245.00                            0   \n",
       "55482        Transient  110.00                            0   \n",
       "55483        Transient   66.00                            1   \n",
       "55484  Transient-Party   62.00                            0   \n",
       "55485  Transient-Party   81.28                            0   \n",
       "\n",
       "       total_of_special_requests reservation_status reservation_status_date  \n",
       "0                              2          Check-Out              2015-10-04  \n",
       "1                              0           Canceled              2016-06-09  \n",
       "2                              0           Canceled              2016-12-07  \n",
       "3                              0           Canceled              2017-01-24  \n",
       "4                              0           Canceled              2015-10-26  \n",
       "...                          ...                ...                     ...  \n",
       "55481                          1          Check-Out              2017-08-26  \n",
       "55482                          0           Canceled              2016-11-25  \n",
       "55483                          0          Check-Out              2016-01-20  \n",
       "55484                          0          Check-Out              2015-08-26  \n",
       "55485                          0          Check-Out              2016-10-27  \n",
       "\n",
       "[55486 rows x 32 columns]"
      ]
     },
     "execution_count": 16,
     "metadata": {},
     "output_type": "execute_result"
    }
   ],
   "source": [
    "train_data"
   ]
  },
  {
   "cell_type": "code",
   "execution_count": 17,
   "metadata": {},
   "outputs": [
    {
     "name": "stdout",
     "output_type": "stream",
     "text": [
      "<class 'pandas.core.frame.DataFrame'>\n",
      "RangeIndex: 55486 entries, 0 to 55485\n",
      "Data columns (total 32 columns):\n",
      " #   Column                          Non-Null Count  Dtype  \n",
      "---  ------                          --------------  -----  \n",
      " 0   hotel                           55486 non-null  object \n",
      " 1   is_canceled                     55486 non-null  int64  \n",
      " 2   lead_time                       55486 non-null  int64  \n",
      " 3   arrival_date_year               55486 non-null  int64  \n",
      " 4   arrival_date_month              55486 non-null  object \n",
      " 5   arrival_date_week_number        55486 non-null  int64  \n",
      " 6   arrival_date_day_of_month       55486 non-null  int64  \n",
      " 7   stays_in_weekend_nights         55486 non-null  int64  \n",
      " 8   stays_in_week_nights            55486 non-null  int64  \n",
      " 9   adults                          55486 non-null  int64  \n",
      " 10  children                        55484 non-null  float64\n",
      " 11  babies                          55486 non-null  int64  \n",
      " 12  meal                            55486 non-null  object \n",
      " 13  country                         55472 non-null  object \n",
      " 14  market_segment                  55486 non-null  object \n",
      " 15  distribution_channel            55486 non-null  object \n",
      " 16  is_repeated_guest               55486 non-null  int64  \n",
      " 17  previous_cancellations          55486 non-null  int64  \n",
      " 18  previous_bookings_not_canceled  55486 non-null  int64  \n",
      " 19  reserved_room_type              55486 non-null  object \n",
      " 20  assigned_room_type              55486 non-null  object \n",
      " 21  booking_changes                 55486 non-null  int64  \n",
      " 22  deposit_type                    55486 non-null  object \n",
      " 23  agent                           49792 non-null  float64\n",
      " 24  company                         2545 non-null   float64\n",
      " 25  days_in_waiting_list            55486 non-null  int64  \n",
      " 26  customer_type                   55486 non-null  object \n",
      " 27  adr                             55486 non-null  float64\n",
      " 28  required_car_parking_spaces     55486 non-null  int64  \n",
      " 29  total_of_special_requests       55486 non-null  int64  \n",
      " 30  reservation_status              55486 non-null  object \n",
      " 31  reservation_status_date         55486 non-null  object \n",
      "dtypes: float64(4), int64(16), object(12)\n",
      "memory usage: 13.5+ MB\n"
     ]
    }
   ],
   "source": [
    "train_data.info()"
   ]
  },
  {
   "cell_type": "code",
   "execution_count": 18,
   "metadata": {},
   "outputs": [],
   "source": [
    "from sklearn.base import BaseEstimator, TransformerMixin\n",
    "import math\n",
    "\n",
    "class FeatureExtractor(TransformerMixin):\n",
    "    def  __init__(self):\n",
    "        print('Feature Extractor initiated...')\n",
    "\n",
    "    def fit(self,X,y=None):\n",
    "        print('Fitting data...')\n",
    "        return self\n",
    "\n",
    "    def transform(self, X, y=None, add_time_series=True):\n",
    "        print('Extracting data...')\n",
    "        X_ = X.copy()\n",
    "\n",
    "        X_['arrival_date'] = pd.to_datetime(X_['arrival_date'], format='%Y-%m-%d')\n",
    "        X_['arrival_year'] = X_['arrival_date'].dt.year\n",
    "        X_['arrival_month'] = X_['arrival_date'].dt.month\n",
    "        X_['arrival_day_of_month'] = X_['arrival_date'].dt.day\n",
    "        X_['arrival_day_of_week'] = X_['arrival_date'].dt.day_of_week\n",
    "        X_['arrival_week_number'] = X_['arrival_date'].dt.isocalendar().week\n",
    "        # X_.rename(columns={'arrival_date_year':'arrival_year', 'arrival_date_month':'arrival_month', 'arrival_date_day_of_month':'arrival_day_of_month', 'arrival_date_week_number':'arrival_week_number'}, inplace=True)\n",
    "        # X_['reservation_status_date'] = pd.to_datetime(X_['reservation_status_date'], format='%Y-%m-%d')\n",
    "        # X_['arrival_month'] = X_.apply(lambda x: self.__get_month_index(x['arrival_month']), axis=1)\n",
    "        \n",
    "        X_ = self.__null_handler(X_)\n",
    "\n",
    "        X_['children'] = X_['children'].apply(int)\n",
    "        X_['agent'] = X_['agent'].apply(int)\n",
    "        X_['company'] = X_['company'].apply(int)\n",
    "        \n",
    "        # X_['arrival_date'] = X_.apply(lambda x: self.__get_date(x['arrival_year'], x['arrival_month'], x['arrival_day_of_month']), axis=1)\n",
    "        # X_['arrival_date'] = pd.to_datetime(X_['arrival_date'], format='%Y-%m-%d')\n",
    "        # X_['arrival_day_of_week'] = X_['arrival_date'].dt.day_of_week\n",
    "\n",
    "        # X_['booking_date'] = X_.apply(lambda x: x['arrival_date'] - timedelta(days=x['lead_time']), axis=1)\n",
    "        X_['booking_date'] = pd.to_datetime(X_['booking_date'], format='%Y-%m-%d')\n",
    "        X_['booking_year'] = X_['booking_date'].dt.year\n",
    "        X_['booking_month'] = X_['booking_date'].dt.month\n",
    "        X_['booking_day_of_month'] = X_['booking_date'].dt.day\n",
    "        X_['booking_day_of_week'] = X_['booking_date'].dt.day_of_week\n",
    "        X_['booking_week_number'] = X_['booking_date'].dt.isocalendar().week\n",
    "\n",
    "        X_['is_family'] = X_.apply(lambda x: self.__family(x['children'] + x['babies']), axis=1)\n",
    "\n",
    "        timeseries_labels = ['arrival_month','arrival_week_number','arrival_day_of_month','arrival_day_of_week',\n",
    "                'booking_month', 'booking_week_number', 'booking_day_of_month', 'booking_day_of_week']\n",
    "\n",
    "        if add_time_series:\n",
    "            for label in timeseries_labels:\n",
    "                X_[label + \"_norm\"] = 2 * math.pi * X_[label] / X_[label].max()\n",
    "                X_[\"cos_\" + label] = np.cos(X_[label + \"_norm\"])\n",
    "                X_[\"sin_\" + label] = np.sin(X_[label + \"_norm\"])\n",
    "\n",
    "                X_.drop(labels=[label + '_norm', label], axis=1, inplace=True)\n",
    "\n",
    "        # X_.drop(labels=['is_canceled','adr','reservation_status','reservation_status_date','hotel','assigned_room_type'],axis=1,inplace=True)\n",
    "        X_.drop(labels=['arrival_date','arrival_year','booking_date'],axis=1,inplace=True)\n",
    "\n",
    "        # self.__view_data_specs(X_)\n",
    "        return X_\n",
    "\n",
    "    def __null_handler(self,X):\n",
    "        X.agent.fillna(0, inplace=True)\n",
    "        X.company.fillna(0, inplace=True)\n",
    "        X.children.fillna(0, inplace=True)\n",
    "        X.country.fillna('PRT', inplace=True)\n",
    "        X.loc[X[X['market_segment'] == 'Undefined'].index, 'market_segment'] = 'Online TA'\n",
    "        X.loc[X[X['distribution_channel'] == 'Undefined'].index, 'distribution_channel'] = 'TA/TO'\n",
    "        return X\n",
    "\n",
    "    # def __get_month_index(self,month):\n",
    "    #     months = ['January', 'February', 'March', 'April', 'May', 'June', 'July', 'August', 'September', 'October', 'November', 'December']\n",
    "    #     return months.index(month)+1\n",
    "\n",
    "    # def __get_date(self,year,month,day):\n",
    "    #     return str(year) + '-' + str(month) + '-' + str(day)\n",
    "\n",
    "    def __family(self,value):\n",
    "        if value > 0:\n",
    "            return 1\n",
    "        else:\n",
    "            return 0\n",
    "\n",
    "    def __view_data_specs(self,data):\n",
    "        print(data.columns)\n",
    "        print(data.shape)\n",
    "        print(data.info())\n",
    "\n",
    "# feature_extractor = FeatureExtractor()\n",
    "# feature_extractor.fit(train_data)\n",
    "# transformed_data = feature_extractor.transform(train_data)\n",
    "# transformed_data.info()"
   ]
  },
  {
   "cell_type": "code",
   "execution_count": 19,
   "metadata": {},
   "outputs": [],
   "source": [
    "def conf_matrix(y_test, pred_test):    \n",
    "    \n",
    "    # Creating a confusion matrix\n",
    "    con_mat = confusion_matrix(y_test, pred_test)\n",
    "    con_mat = pd.DataFrame(con_mat, range(2), range(2))\n",
    "   \n",
    "    #Ploting the confusion matrix\n",
    "    plt.figure(figsize=(3,3))\n",
    "    sns.heatmap(con_mat, annot=True, annot_kws={\"size\": 16}, fmt='g', cmap='Blues', cbar=False)"
   ]
  },
  {
   "cell_type": "code",
   "execution_count": 20,
   "metadata": {},
   "outputs": [],
   "source": [
    "from sklearn.metrics import mean_squared_error,mean_absolute_percentage_error,confusion_matrix,f1_score,accuracy_score\n",
    "\n",
    "def test_model_1(model):\n",
    "    model.fit(X_train_1,y_train_1)\n",
    "    y_train_pred_1 = model.predict(X_train_1)\n",
    "    y_val_pred_1 = model.predict(X_val_1)\n",
    "\n",
    "    print('- Train score:', model.score(X_train_1,y_train_1))\n",
    "    print('- F1 score (train):', f1_score(y_train_1, y_train_pred_1))\n",
    "\n",
    "    print('- Val score:', model.score(X_val_1,y_val_1))\n",
    "    print('- F1 score (val):', f1_score(y_val_1, y_val_pred_1))\n",
    "    conf_matrix(y_val_1,y_val_pred_1)\n",
    "\n",
    "    # test_data = pd.read_csv('test_data.csv')\n",
    "    # X_test, y_test = test_data, test_data['is_canceled']\n",
    "    # y_test_pred = model.predict(X_test)\n",
    "    # print('- Test score:', {model.score(X_test,y_test)})\n",
    "    # print('- F1 score (test):', f1_score(y_test, y_test_pred))"
   ]
  },
  {
   "cell_type": "code",
   "execution_count": 21,
   "metadata": {},
   "outputs": [],
   "source": [
    "import pickle\n",
    "\n",
    "def create_pkl(model, filename):\n",
    "    pkl_file = filename + '.pkl'\n",
    "    pickle_out = open(pkl_file,'wb')\n",
    "    pickle.dump(model,pickle_out)\n",
    "    pickle_out.close()\n",
    "    print(f'Pkl File: {pkl_file}')"
   ]
  },
  {
   "attachments": {},
   "cell_type": "markdown",
   "metadata": {},
   "source": [
    "### Model 1 - Predicting cancellations"
   ]
  },
  {
   "cell_type": "code",
   "execution_count": 22,
   "metadata": {},
   "outputs": [],
   "source": [
    "X_train_1, y_train_1 = train_data_filtered, train_data['is_canceled']\n",
    "X_val_1, y_val_1 = val_data_filtered, val_data['is_canceled']"
   ]
  },
  {
   "cell_type": "code",
   "execution_count": 23,
   "metadata": {},
   "outputs": [
    {
     "name": "stdout",
     "output_type": "stream",
     "text": [
      "Feature Extractor initiated...\n"
     ]
    }
   ],
   "source": [
    "from sklearn.pipeline import make_pipeline,Pipeline\n",
    "from sklearn.compose import make_column_transformer,make_column_selector,ColumnTransformer\n",
    "from sklearn.preprocessing import StandardScaler,OneHotEncoder,LabelEncoder,OrdinalEncoder\n",
    "from sklearn.impute import SimpleImputer\n",
    "from sklearn.decomposition import PCA,TruncatedSVD\n",
    "\n",
    "columnTransformer_1 = ColumnTransformer([\n",
    "    ('cat_transformer', OneHotEncoder(sparse=True), make_column_selector(dtype_include=object)),\n",
    "    ('num_transformer', StandardScaler(), make_column_selector(dtype_exclude=object))\n",
    "], remainder='passthrough')\n",
    "\n",
    "full_transformer_1 = Pipeline([\n",
    "    ('feature_extractor', FeatureExtractor()),\n",
    "    ('col_transformer', columnTransformer_1),\n",
    "    ('pca', TruncatedSVD(n_components=50)),\n",
    "])\n",
    "\n",
    "# full_transformer_1.fit(train_data)\n",
    "# transformed_data = full_transformer_1.transform(train_data)"
   ]
  },
  {
   "cell_type": "code",
   "execution_count": 24,
   "metadata": {},
   "outputs": [],
   "source": [
    "# np.cumsum(full_transformer_1['pca'].explained_variance_ratio_)"
   ]
  },
  {
   "cell_type": "code",
   "execution_count": 25,
   "metadata": {},
   "outputs": [
    {
     "name": "stdout",
     "output_type": "stream",
     "text": [
      "Fitting data...\n",
      "Extracting data...\n"
     ]
    },
    {
     "name": "stderr",
     "output_type": "stream",
     "text": [
      "/home/vikram/.local/lib/python3.10/site-packages/sklearn/linear_model/_logistic.py:444: ConvergenceWarning: lbfgs failed to converge (status=1):\n",
      "STOP: TOTAL NO. of ITERATIONS REACHED LIMIT.\n",
      "\n",
      "Increase the number of iterations (max_iter) or scale the data as shown in:\n",
      "    https://scikit-learn.org/stable/modules/preprocessing.html\n",
      "Please also refer to the documentation for alternative solver options:\n",
      "    https://scikit-learn.org/stable/modules/linear_model.html#logistic-regression\n",
      "  n_iter_i = _check_optimize_result(\n"
     ]
    },
    {
     "name": "stdout",
     "output_type": "stream",
     "text": [
      "Extracting data...\n",
      "Extracting data...\n",
      "Extracting data...\n",
      "- Train score: 0.8005442814403634\n",
      "- F1 score (train): 0.7549651278644968\n",
      "Extracting data...\n",
      "- Val score: 0.8041172409464633\n",
      "- F1 score (val): 0.7577427617790887\n"
     ]
    },
    {
     "data": {
      "image/png": "[encoded data removed]",
      "text/plain": [
       "<Figure size 216x216 with 1 Axes>"
      ]
     },
     "metadata": {
      "needs_background": "light"
     },
     "output_type": "display_data"
    }
   ],
   "source": [
    "from sklearn.linear_model import LogisticRegression\n",
    "\n",
    "model_1_logreg = Pipeline([\n",
    "    ('full_transformer', full_transformer_1),\n",
    "    ('log_reg', LogisticRegression(class_weight='balanced', n_jobs=-1))\n",
    "])\n",
    "\n",
    "test_model_1(model_1_logreg)"
   ]
  },
  {
   "cell_type": "code",
   "execution_count": 28,
   "metadata": {},
   "outputs": [
    {
     "name": "stdout",
     "output_type": "stream",
     "text": [
      "Fitting data...\n",
      "Extracting data...\n",
      "Extracting data...\n",
      "Extracting data...\n",
      "Extracting data...\n",
      "- Train score: 0.9940525537973542\n",
      "- F1 score (train): 0.992874109263658\n",
      "Extracting data...\n",
      "- Val score: 0.866691771794389\n",
      "- F1 score (val): 0.8240848103362598\n"
     ]
    },
    {
     "data": {
      "image/png": "[encoded data removed]",
      "text/plain": [
       "<Figure size 216x216 with 1 Axes>"
      ]
     },
     "metadata": {
      "needs_background": "light"
     },
     "output_type": "display_data"
    }
   ],
   "source": [
    "from sklearn.tree import DecisionTreeClassifier\n",
    "from sklearn.ensemble import RandomForestClassifier,ExtraTreesClassifier,AdaBoostRegressor,GradientBoostingRegressor\n",
    "\n",
    "model_1_rf = Pipeline([\n",
    "    ('full_transformer', full_transformer_1),\n",
    "    ('forest_reg', RandomForestClassifier(class_weight='balanced', n_jobs=-1))\n",
    "])\n",
    "\n",
    "test_model_1(model_1_rf)"
   ]
  },
  {
   "cell_type": "code",
   "execution_count": 27,
   "metadata": {},
   "outputs": [
    {
     "name": "stdout",
     "output_type": "stream",
     "text": [
      "Fitting data...\n",
      "Extracting data...\n",
      "Extracting data...\n",
      "Extracting data...\n",
      "Extracting data...\n",
      "- Train score: 0.860162923980824\n",
      "- F1 score (train): 0.8305340176913836\n",
      "Extracting data...\n",
      "- Val score: 0.8504989644134815\n",
      "- F1 score (val): 0.8164869029275809\n"
     ]
    },
    {
     "data": {
      "image/png": "[encoded data removed]",
      "text/plain": [
       "<Figure size 216x216 with 1 Axes>"
      ]
     },
     "metadata": {
      "needs_background": "light"
     },
     "output_type": "display_data"
    }
   ],
   "source": [
    "from sklearn.svm import SVC\n",
    "\n",
    "model_1_svc = Pipeline([\n",
    "    ('full_transformer', full_transformer_1),\n",
    "    ('svc', SVC(class_weight='balanced'))\n",
    "])\n",
    "\n",
    "test_model_1(model_1_svc)"
   ]
  },
  {
   "attachments": {},
   "cell_type": "markdown",
   "metadata": {},
   "source": [
    "Although SVC has lesser F1 score compared to RandomForest classifier, it is selected as RandomForest classifier has overfitted to training data. SVC predictions can be finetuned by hyperparameter tuning."
   ]
  },
  {
   "cell_type": "code",
   "execution_count": 30,
   "metadata": {},
   "outputs": [
    {
     "name": "stdout",
     "output_type": "stream",
     "text": [
      "Feature Extractor initiated...\n",
      "Fitting data...\n",
      "Extracting data...\n",
      "Extracting data...\n",
      "- Val score: 0.8504362015941757\n",
      "- F1 score (val): 0.8163957161568688\n",
      "Pkl File: model_1_svc.pkl\n"
     ]
    },
    {
     "data": {
      "image/png": "[encoded data removed]",
      "text/plain": [
       "<Figure size 216x216 with 1 Axes>"
      ]
     },
     "metadata": {
      "needs_background": "light"
     },
     "output_type": "display_data"
    }
   ],
   "source": [
    "# Pickle File Creation\n",
    "\n",
    "model_pipeline = Pipeline([\n",
    "    ('col_transformer', columnTransformer_1),\n",
    "    ('pca', TruncatedSVD(n_components=50)),\n",
    "    ('svc', SVC(class_weight='balanced'))\n",
    "])\n",
    "\n",
    "feature_ex = FeatureExtractor()\n",
    "feature_ex.fit(X_train_1,y_train_1)\n",
    "\n",
    "X_train_transformed_1 = feature_ex.transform(X_train_1)\n",
    "X_val_transformed_1 = feature_ex.transform(X_val_1)\n",
    "\n",
    "model_pipeline.fit(X_train_transformed_1,y_train_1)\n",
    "y_val_pred_1 = model_pipeline.predict(X_val_transformed_1)\n",
    "\n",
    "print('- Val score:', model_pipeline.score(X_val_transformed_1,y_val_1))\n",
    "print('- F1 score (val):', f1_score(y_val_1, y_val_pred_1))\n",
    "conf_matrix(y_val_1,y_val_pred_1)\n",
    "\n",
    "create_pkl(model_pipeline, \"model_1_svc\")"
   ]
  },
  {
   "cell_type": "markdown",
   "metadata": {},
   "source": [
    "### Model 2 - Lead Time Prediction"
   ]
  },
  {
   "cell_type": "code",
   "execution_count": 31,
   "metadata": {},
   "outputs": [],
   "source": [
    "from sklearn.metrics import mean_squared_error,mean_absolute_percentage_error,confusion_matrix,f1_score,accuracy_score\n",
    "\n",
    "def test_model_2(model):\n",
    "    model.fit(X_train_2,y_train_2)\n",
    "    y_train_pred_2 = model.predict(X_train_2)\n",
    "    y_val_pred_2 = model.predict(X_val_2)\n",
    "\n",
    "    print('- Train score:', model.score(X_train_2,y_train_2))\n",
    "    print('- RMSE (train):', np.sqrt(mean_squared_error(y_train_2,y_train_pred_2)))\n",
    "    print('- MAPE (train):', np.sqrt(mean_absolute_percentage_error(y_train_2,y_train_pred_2)))\n",
    "    \n",
    "    print('- Val score:', model.score(X_val_2,y_val_2))\n",
    "    print('- RMSE (val):', np.sqrt(mean_squared_error(y_val_2,y_val_pred_2)))\n",
    "    print('- MAPE (val):', np.sqrt(mean_absolute_percentage_error(y_val_2,y_val_pred_2)))\n",
    "\n",
    "    # test_data = pd.read_csv('test_data.csv')\n",
    "    # X_test, y_test = test_data, get_cancel_lead_time(test_data)\n",
    "    # y_test_pred = model.predict(X_test)\n",
    "    # print('- Test score:', {model.score(X_test,y_test)})\n",
    "    # print('- F1 score (test):', f1_score(y_test, y_test_pred))"
   ]
  },
  {
   "cell_type": "code",
   "execution_count": 32,
   "metadata": {},
   "outputs": [],
   "source": [
    "# Creating y values (Cancel Lead Time)\n",
    "\n",
    "def get_cancel_lead_time(data):\n",
    "    duplicate = data.copy()\n",
    "    duplicate.rename(columns={'arrival_date_year':'arrival_year', 'arrival_date_month':'arrival_month', 'arrival_date_day_of_month':'arrival_day_of_month', 'arrival_date_week_number':'arrival_week_number'}, inplace=True)\n",
    "    duplicate['reservation_status_date'] = pd.to_datetime(duplicate['reservation_status_date'], format='%Y-%m-%d')\n",
    "    duplicate['arrival_month'] = duplicate.apply(lambda x: __get_month_index(x['arrival_month']), axis=1)\n",
    "    duplicate['arrival_date'] = duplicate.apply(lambda x: __get_date(x['arrival_year'], x['arrival_month'], x['arrival_day_of_month']), axis=1)\n",
    "    duplicate['arrival_date'] = pd.to_datetime(duplicate['arrival_date'], format='%Y-%m-%d')\n",
    "    duplicate['cancel_lead_time'] = (duplicate['arrival_date'] - duplicate['reservation_status_date']).dt.days\n",
    "    duplicate.loc[duplicate['cancel_lead_time'] < 0, 'cancel_lead_time'] = 0\n",
    "    return duplicate['cancel_lead_time']\n",
    "\n",
    "def __get_date(year,month,day):\n",
    "    return str(year) + '-' + str(month) + '-' + str(day)\n",
    "\n",
    "def __get_month_index(month):\n",
    "    months = ['January', 'February', 'March', 'April', 'May', 'June', 'July', 'August', 'September', 'October', 'November', 'December']\n",
    "    return months.index(month)+1"
   ]
  },
  {
   "cell_type": "code",
   "execution_count": 33,
   "metadata": {},
   "outputs": [],
   "source": [
    "X_train_2,y_train_2 = train_data_filtered,get_cancel_lead_time(train_data)\n",
    "X_val_2,y_val_2 = val_data_filtered,get_cancel_lead_time(val_data)"
   ]
  },
  {
   "cell_type": "code",
   "execution_count": 40,
   "metadata": {},
   "outputs": [
    {
     "name": "stdout",
     "output_type": "stream",
     "text": [
      "Feature Extractor initiated...\n"
     ]
    }
   ],
   "source": [
    "from sklearn.pipeline import make_pipeline,Pipeline\n",
    "from sklearn.compose import make_column_transformer,make_column_selector,ColumnTransformer\n",
    "from sklearn.preprocessing import StandardScaler,OneHotEncoder,LabelEncoder,OrdinalEncoder\n",
    "from sklearn.impute import SimpleImputer\n",
    "from sklearn.decomposition import PCA,TruncatedSVD\n",
    "\n",
    "columnTransformer_2 = ColumnTransformer([\n",
    "    ('cat_transformer', OneHotEncoder(), make_column_selector(dtype_include=object)),\n",
    "    ('num_transformer', StandardScaler(), make_column_selector(dtype_include=int))\n",
    "], remainder='passthrough')\n",
    "\n",
    "full_transformer_2 = Pipeline([\n",
    "    ('feature_extractor', FeatureExtractor()),\n",
    "    ('col_transformer', columnTransformer_2),\n",
    "    # ('pca', TruncatedSVD(n_components=30)),\n",
    "])\n",
    "\n",
    "# full_transformer.fit(train_data)\n",
    "# transformed_data = full_transformer.transform(train_data)"
   ]
  },
  {
   "cell_type": "markdown",
   "metadata": {},
   "source": [
    "### RandomForest\n",
    "\n",
    "With 90% Accuracy \n",
    "\n",
    "pickle created - final_model.pkl"
   ]
  },
  {
   "cell_type": "code",
   "execution_count": 43,
   "metadata": {},
   "outputs": [
    {
     "name": "stdout",
     "output_type": "stream",
     "text": [
      "Fitting data...\n",
      "Extracting data...\n",
      "Extracting data...\n",
      "Extracting data...\n",
      "Extracting data...\n",
      "- Train score: 0.9845035425409244\n",
      "- RMSE (train): 9.355516316051906\n",
      "- MAPE (train): 84902494.48818484\n",
      "Extracting data...\n",
      "- Val score: 0.9009834893328142\n",
      "- RMSE (val): 23.631865449205055\n",
      "- MAPE (train): 135412839.6494896\n"
     ]
    }
   ],
   "source": [
    "from sklearn.ensemble import RandomForestRegressor,ExtraTreesClassifier,AdaBoostRegressor,GradientBoostingRegressor\n",
    "from sklearn.tree import DecisionTreeClassifier\n",
    "\n",
    "model_2_rf = Pipeline([\n",
    "    ('full_transformer', full_transformer_2),\n",
    "    ('forest_reg', RandomForestRegressor(n_estimators=200,n_jobs=-1))\n",
    "])\n",
    "\n",
    "test_model_2(model_2_rf)"
   ]
  },
  {
   "cell_type": "code",
   "execution_count": 42,
   "metadata": {},
   "outputs": [
    {
     "name": "stdout",
     "output_type": "stream",
     "text": [
      "Fitting data...\n",
      "Extracting data...\n",
      "Extracting data...\n",
      "Extracting data...\n",
      "Extracting data...\n",
      "- Train score: 0.6039217137962252\n",
      "- RMSE (train): 47.297922291248206\n",
      "- MAPE (train): 103227222.65117216\n",
      "Extracting data...\n",
      "- Val score: 0.6147457235108373\n",
      "- RMSE (val): 46.61416729870745\n",
      "- MAPE (train): 101441405.25843261\n"
     ]
    }
   ],
   "source": [
    "from sklearn.svm import SVR\n",
    "\n",
    "model_2_svr = Pipeline([\n",
    "    ('full_transformer', full_transformer_2),\n",
    "    ('svr', SVR())\n",
    "])\n",
    "\n",
    "test_model_2(model_2_svr)"
   ]
  },
  {
   "attachments": {},
   "cell_type": "markdown",
   "metadata": {},
   "source": [
    "RandomForestRegressor is selected here as SVR does not perform well. RandomForest regressor can be finetuned by hyperparameter tuning."
   ]
  },
  {
   "cell_type": "code",
   "execution_count": 46,
   "metadata": {},
   "outputs": [
    {
     "name": "stdout",
     "output_type": "stream",
     "text": [
      "Feature Extractor initiated...\n",
      "Fitting data...\n",
      "Extracting data...\n",
      "Extracting data...\n"
     ]
    },
    {
     "ename": "ValueError",
     "evalue": "columns are missing: {'cos_arrival_week_number', 'cos_arrival_day_of_week', 'cos_booking_month', 'sin_booking_week_number', 'cos_booking_day_of_month', 'cos_booking_week_number', 'sin_booking_day_of_week', 'cos_arrival_day_of_month', 'sin_booking_month', 'sin_arrival_month', 'sin_booking_day_of_month', 'sin_arrival_week_number', 'cos_booking_day_of_week', 'sin_arrival_day_of_month', 'sin_arrival_day_of_week', 'cos_arrival_month'}",
     "output_type": "error",
     "traceback": [
      "\u001b[0;31m---------------------------------------------------------------------------\u001b[0m",
      "\u001b[0;31mValueError\u001b[0m                                Traceback (most recent call last)",
      "\u001b[1;32m/mnt/c5e89ef0-3911-40b8-95d9-66a595165527/Tech/git/vikram0230/Customer-Analysis-System/final_pipeline.ipynb Cell 27\u001b[0m in \u001b[0;36m<cell line: 17>\u001b[0;34m()\u001b[0m\n\u001b[1;32m     <a href='vscode-notebook-cell:/mnt/c5e89ef0-3911-40b8-95d9-66a595165527/Tech/git/vikram0230/Customer-Analysis-System/final_pipeline.ipynb#X34sZmlsZQ%3D%3D?line=13'>14</a>\u001b[0m model_pipeline\u001b[39m.\u001b[39mfit(X_train_transformed_2,y_train_2)\n\u001b[1;32m     <a href='vscode-notebook-cell:/mnt/c5e89ef0-3911-40b8-95d9-66a595165527/Tech/git/vikram0230/Customer-Analysis-System/final_pipeline.ipynb#X34sZmlsZQ%3D%3D?line=14'>15</a>\u001b[0m y_val_pred_2 \u001b[39m=\u001b[39m model_pipeline\u001b[39m.\u001b[39mpredict(X_val_transformed_2)\n\u001b[0;32m---> <a href='vscode-notebook-cell:/mnt/c5e89ef0-3911-40b8-95d9-66a595165527/Tech/git/vikram0230/Customer-Analysis-System/final_pipeline.ipynb#X34sZmlsZQ%3D%3D?line=16'>17</a>\u001b[0m \u001b[39mprint\u001b[39m(\u001b[39m'\u001b[39m\u001b[39m- Val score:\u001b[39m\u001b[39m'\u001b[39m, model_pipeline\u001b[39m.\u001b[39;49mscore(X_val_2,y_val_2))\n\u001b[1;32m     <a href='vscode-notebook-cell:/mnt/c5e89ef0-3911-40b8-95d9-66a595165527/Tech/git/vikram0230/Customer-Analysis-System/final_pipeline.ipynb#X34sZmlsZQ%3D%3D?line=17'>18</a>\u001b[0m \u001b[39mprint\u001b[39m(\u001b[39m'\u001b[39m\u001b[39m- RMSE (val):\u001b[39m\u001b[39m'\u001b[39m, np\u001b[39m.\u001b[39msqrt(mean_squared_error(y_val_2,y_val_pred_2)))\n\u001b[1;32m     <a href='vscode-notebook-cell:/mnt/c5e89ef0-3911-40b8-95d9-66a595165527/Tech/git/vikram0230/Customer-Analysis-System/final_pipeline.ipynb#X34sZmlsZQ%3D%3D?line=18'>19</a>\u001b[0m \u001b[39mprint\u001b[39m(\u001b[39m'\u001b[39m\u001b[39m- MAPE (train):\u001b[39m\u001b[39m'\u001b[39m, np\u001b[39m.\u001b[39msqrt(mean_absolute_percentage_error(y_val_2,y_val_pred_2)))\n",
      "File \u001b[0;32m~/.local/lib/python3.10/site-packages/sklearn/pipeline.py:695\u001b[0m, in \u001b[0;36mPipeline.score\u001b[0;34m(self, X, y, sample_weight)\u001b[0m\n\u001b[1;32m    693\u001b[0m Xt \u001b[39m=\u001b[39m X\n\u001b[1;32m    694\u001b[0m \u001b[39mfor\u001b[39;00m _, name, transform \u001b[39min\u001b[39;00m \u001b[39mself\u001b[39m\u001b[39m.\u001b[39m_iter(with_final\u001b[39m=\u001b[39m\u001b[39mFalse\u001b[39;00m):\n\u001b[0;32m--> 695\u001b[0m     Xt \u001b[39m=\u001b[39m transform\u001b[39m.\u001b[39;49mtransform(Xt)\n\u001b[1;32m    696\u001b[0m score_params \u001b[39m=\u001b[39m {}\n\u001b[1;32m    697\u001b[0m \u001b[39mif\u001b[39;00m sample_weight \u001b[39mis\u001b[39;00m \u001b[39mnot\u001b[39;00m \u001b[39mNone\u001b[39;00m:\n",
      "File \u001b[0;32m~/.local/lib/python3.10/site-packages/sklearn/compose/_column_transformer.py:757\u001b[0m, in \u001b[0;36mColumnTransformer.transform\u001b[0;34m(self, X)\u001b[0m\n\u001b[1;32m    755\u001b[0m     diff \u001b[39m=\u001b[39m all_names \u001b[39m-\u001b[39m \u001b[39mset\u001b[39m(X\u001b[39m.\u001b[39mcolumns)\n\u001b[1;32m    756\u001b[0m     \u001b[39mif\u001b[39;00m diff:\n\u001b[0;32m--> 757\u001b[0m         \u001b[39mraise\u001b[39;00m \u001b[39mValueError\u001b[39;00m(\u001b[39mf\u001b[39m\u001b[39m\"\u001b[39m\u001b[39mcolumns are missing: \u001b[39m\u001b[39m{\u001b[39;00mdiff\u001b[39m}\u001b[39;00m\u001b[39m\"\u001b[39m)\n\u001b[1;32m    758\u001b[0m \u001b[39melse\u001b[39;00m:\n\u001b[1;32m    759\u001b[0m     \u001b[39m# ndarray was used for fitting or transforming, thus we only\u001b[39;00m\n\u001b[1;32m    760\u001b[0m     \u001b[39m# check that n_features_in_ is consistent\u001b[39;00m\n\u001b[1;32m    761\u001b[0m     \u001b[39mself\u001b[39m\u001b[39m.\u001b[39m_check_n_features(X, reset\u001b[39m=\u001b[39m\u001b[39mFalse\u001b[39;00m)\n",
      "\u001b[0;31mValueError\u001b[0m: columns are missing: {'cos_arrival_week_number', 'cos_arrival_day_of_week', 'cos_booking_month', 'sin_booking_week_number', 'cos_booking_day_of_month', 'cos_booking_week_number', 'sin_booking_day_of_week', 'cos_arrival_day_of_month', 'sin_booking_month', 'sin_arrival_month', 'sin_booking_day_of_month', 'sin_arrival_week_number', 'cos_booking_day_of_week', 'sin_arrival_day_of_month', 'sin_arrival_day_of_week', 'cos_arrival_month'}"
     ]
    }
   ],
   "source": [
    "# Final Pickle Creation\n",
    "\n",
    "model_pipeline = Pipeline([\n",
    "    ('full_transformer', columnTransformer_2),\n",
    "    ('forest_reg', RandomForestRegressor(n_estimators=200,n_jobs=-1))\n",
    "])\n",
    "\n",
    "feature_ex = FeatureExtractor()\n",
    "feature_ex.fit(X_train_2,y_train_2)\n",
    "\n",
    "X_train_transformed_2 = feature_ex.transform(X_train_2)\n",
    "X_val_transformed_2 = feature_ex.transform(X_val_2)\n",
    "\n",
    "model_pipeline.fit(X_train_transformed_2,y_train_2)\n",
    "y_val_pred_2 = model_pipeline.predict(X_val_transformed_2)\n",
    "\n",
    "print('- Val score:', model_pipeline.score(X_val_transformed_2,y_val_2))\n",
    "print('- RMSE (val):', np.sqrt(mean_squared_error(y_val_2,y_val_pred_2)))\n",
    "print('- MAPE (val):', np.sqrt(mean_absolute_percentage_error(y_val_2,y_val_pred_2)))\n",
    "\n",
    "create_pkl(model_pipeline, \"model_2_rf\")"
   ]
  },
  {
   "cell_type": "markdown",
   "metadata": {},
   "source": [
    "### Only KMeans\n",
    "85% Accuracy\n",
    "\n",
    "Needs dimensionality reduction & Outlier elimination"
   ]
  },
  {
   "cell_type": "code",
   "execution_count": 12,
   "metadata": {},
   "outputs": [
    {
     "name": "stdout",
     "output_type": "stream",
     "text": [
      "Fitting data...\n",
      "Extracting data...\n",
      "Extracting data...\n",
      "Extracting data...\n",
      "-Train score: 0.9767997400762126\n",
      "Extracting data...\n",
      "-Val score: 0.8490413952524607\n",
      "Extracting data...\n",
      "-Test score: 0.847905761402395\n"
     ]
    }
   ],
   "source": [
    "from sklearn.tree import DecisionTreeClassifier\n",
    "from sklearn.ensemble import RandomForestRegressor,ExtraTreesClassifier,AdaBoostRegressor,GradientBoostingRegressor\n",
    "from sklearn.cluster import KMeans\n",
    "\n",
    "model_pipeline_2 = Pipeline([\n",
    "    ('full_transformer', full_transformer),\n",
    "    ('kmeans', KMeans()),\n",
    "    ('forest_reg', RandomForestRegressor(n_estimators=200,n_jobs=-1))\n",
    "])\n",
    "\n",
    "model_pipeline_2\n",
    "test_model(model_pipeline_2)"
   ]
  },
  {
   "cell_type": "code",
   "execution_count": null,
   "metadata": {},
   "outputs": [],
   "source": [
    "from sklearn.model_selection import GridSearchCV\n",
    "\n",
    "param_grid = dict(kmeans__n_clusters=range(5,30))\n",
    "grid_reg = GridSearchCV(model_pipeline_2, param_grid, cv=3, verbose=2)\n",
    "grid_reg.fit(X_train,y_train)"
   ]
  },
  {
   "cell_type": "code",
   "execution_count": 18,
   "metadata": {},
   "outputs": [
    {
     "data": {
      "text/plain": [
       "{'mean_fit_time': array([ 6.29706645,  7.01004608,  7.94932501,  9.33605536,  9.98911484,\n",
       "        10.56633393, 11.40360165, 12.72398973, 13.82118789, 15.25095661,\n",
       "        16.12027073, 17.35291131, 18.56564116, 19.43427793, 20.25435583,\n",
       "        22.22552292, 23.65226881, 23.9670399 , 24.99051499, 27.22242347,\n",
       "        27.58068927, 28.41448601, 29.85953021, 31.32906485, 33.31172013]),\n",
       " 'std_fit_time': array([0.30487176, 0.06555618, 0.11941891, 0.40494874, 0.38194668,\n",
       "        0.21262757, 0.19487121, 0.31922822, 0.33325863, 0.29866431,\n",
       "        0.57923295, 0.05992358, 0.51712059, 0.38469092, 0.16232149,\n",
       "        0.45688405, 0.33699869, 0.34233357, 0.35459041, 0.75606311,\n",
       "        0.67689689, 0.30430569, 1.13452941, 0.66050329, 1.07354413]),\n",
       " 'mean_score_time': array([0.95380942, 0.93328913, 0.90576839, 0.9416515 , 0.97041345,\n",
       "        0.92142542, 0.96610538, 0.94003503, 0.94882417, 0.94676503,\n",
       "        0.91274166, 0.94996373, 0.94043167, 0.94402933, 0.94125064,\n",
       "        0.94471049, 0.93732452, 0.92604772, 0.95679228, 0.99465243,\n",
       "        0.91582751, 0.95137278, 0.94635653, 0.97566295, 0.95315003]),\n",
       " 'std_score_time': array([0.04900994, 0.03122681, 0.05039092, 0.07322317, 0.05171367,\n",
       "        0.07740689, 0.08696375, 0.0276545 , 0.04526077, 0.04779582,\n",
       "        0.07266073, 0.0850501 , 0.0662307 , 0.09301251, 0.08349912,\n",
       "        0.02488614, 0.02680099, 0.06259851, 0.09127728, 0.05743251,\n",
       "        0.01477318, 0.09607066, 0.05189152, 0.10297774, 0.05164546]),\n",
       " 'param_kmeans__n_clusters': masked_array(data=[5, 6, 7, 8, 9, 10, 11, 12, 13, 14, 15, 16, 17, 18, 19,\n",
       "                    20, 21, 22, 23, 24, 25, 26, 27, 28, 29],\n",
       "              mask=[False, False, False, False, False, False, False, False,\n",
       "                    False, False, False, False, False, False, False, False,\n",
       "                    False, False, False, False, False, False, False, False,\n",
       "                    False],\n",
       "        fill_value='?',\n",
       "             dtype=object),\n",
       " 'params': [{'kmeans__n_clusters': 5},\n",
       "  {'kmeans__n_clusters': 6},\n",
       "  {'kmeans__n_clusters': 7},\n",
       "  {'kmeans__n_clusters': 8},\n",
       "  {'kmeans__n_clusters': 9},\n",
       "  {'kmeans__n_clusters': 10},\n",
       "  {'kmeans__n_clusters': 11},\n",
       "  {'kmeans__n_clusters': 12},\n",
       "  {'kmeans__n_clusters': 13},\n",
       "  {'kmeans__n_clusters': 14},\n",
       "  {'kmeans__n_clusters': 15},\n",
       "  {'kmeans__n_clusters': 16},\n",
       "  {'kmeans__n_clusters': 17},\n",
       "  {'kmeans__n_clusters': 18},\n",
       "  {'kmeans__n_clusters': 19},\n",
       "  {'kmeans__n_clusters': 20},\n",
       "  {'kmeans__n_clusters': 21},\n",
       "  {'kmeans__n_clusters': 22},\n",
       "  {'kmeans__n_clusters': 23},\n",
       "  {'kmeans__n_clusters': 24},\n",
       "  {'kmeans__n_clusters': 25},\n",
       "  {'kmeans__n_clusters': 26},\n",
       "  {'kmeans__n_clusters': 27},\n",
       "  {'kmeans__n_clusters': 28},\n",
       "  {'kmeans__n_clusters': 29}],\n",
       " 'split0_test_score': array([0.81029789, 0.82220127, 0.82788542, 0.83721338, 0.83791923,\n",
       "        0.83744926, 0.83849308, 0.83666257, 0.84503547, 0.84315726,\n",
       "        0.84544917, 0.84383196, 0.84917736, 0.84488264, 0.84749056,\n",
       "        0.84792842, 0.84852156, 0.84855746, 0.84911041, 0.84878699,\n",
       "        0.85093547, 0.85007341, 0.84947951, 0.84763041, 0.85194486]),\n",
       " 'split1_test_score': array([0.81351592, 0.82420394, 0.82861571, 0.82267628, 0.82994352,\n",
       "        0.82848779, 0.83700864, 0.83853626, 0.84732092, 0.84429322,\n",
       "        0.83794996, 0.84797195, 0.84685541, 0.84788263, 0.84697891,\n",
       "        0.8517409 , 0.85046727, 0.85138541, 0.84622614, 0.852895  ,\n",
       "        0.85031503, 0.85083764, 0.85155902, 0.85289917, 0.85191062]),\n",
       " 'split2_test_score': array([nan, nan, nan, nan, nan, nan, nan, nan, nan, nan, nan, nan, nan,\n",
       "        nan, nan, nan, nan, nan, nan, nan, nan, nan, nan, nan, nan]),\n",
       " 'mean_test_score': array([nan, nan, nan, nan, nan, nan, nan, nan, nan, nan, nan, nan, nan,\n",
       "        nan, nan, nan, nan, nan, nan, nan, nan, nan, nan, nan, nan]),\n",
       " 'std_test_score': array([nan, nan, nan, nan, nan, nan, nan, nan, nan, nan, nan, nan, nan,\n",
       "        nan, nan, nan, nan, nan, nan, nan, nan, nan, nan, nan, nan]),\n",
       " 'rank_test_score': array([ 1, 23, 22, 21, 20, 19, 18, 17, 16, 15, 14, 24, 13, 11, 10,  9,  8,\n",
       "         7,  6,  5,  4,  3,  2, 12, 25], dtype=int32)}"
      ]
     },
     "execution_count": 18,
     "metadata": {},
     "output_type": "execute_result"
    }
   ],
   "source": [
    "grid_reg.cv_results_"
   ]
  },
  {
   "cell_type": "code",
   "execution_count": 14,
   "metadata": {},
   "outputs": [
    {
     "data": {
      "text/plain": [
       "{'kmeans__n_clusters': 5}"
      ]
     },
     "execution_count": 14,
     "metadata": {},
     "output_type": "execute_result"
    }
   ],
   "source": [
    "grid_reg.best_params_"
   ]
  },
  {
   "cell_type": "code",
   "execution_count": 15,
   "metadata": {},
   "outputs": [
    {
     "name": "stdout",
     "output_type": "stream",
     "text": [
      "Extracting data...\n"
     ]
    },
    {
     "data": {
      "text/plain": [
       "0.8312649718319768"
      ]
     },
     "execution_count": 15,
     "metadata": {},
     "output_type": "execute_result"
    }
   ],
   "source": [
    "grid_reg.score(X_val,y_val)"
   ]
  },
  {
   "cell_type": "markdown",
   "metadata": {},
   "source": [
    "### KMeans with PCA\n",
    "\n",
    "74% Accuracy with TruncatedSVD"
   ]
  },
  {
   "cell_type": "code",
   "execution_count": 2,
   "metadata": {},
   "outputs": [
    {
     "ename": "NameError",
     "evalue": "name 'full_transformer' is not defined",
     "output_type": "error",
     "traceback": [
      "\u001b[0;31m---------------------------------------------------------------------------\u001b[0m",
      "\u001b[0;31mNameError\u001b[0m                                 Traceback (most recent call last)",
      "\u001b[1;32m/mnt/c5e89ef0-3911-40b8-95d9-66a595165527/Tech/git/vikram0230/Customer-Analysis-System/final_pipeline.ipynb Cell 25\u001b[0m in \u001b[0;36m<cell line: 7>\u001b[0;34m()\u001b[0m\n\u001b[1;32m      <a href='vscode-notebook-cell:/mnt/c5e89ef0-3911-40b8-95d9-66a595165527/Tech/git/vikram0230/Customer-Analysis-System/final_pipeline.ipynb#X26sZmlsZQ%3D%3D?line=3'>4</a>\u001b[0m \u001b[39mfrom\u001b[39;00m \u001b[39msklearn\u001b[39;00m\u001b[39m.\u001b[39;00m\u001b[39mcluster\u001b[39;00m \u001b[39mimport\u001b[39;00m KMeans\n\u001b[1;32m      <a href='vscode-notebook-cell:/mnt/c5e89ef0-3911-40b8-95d9-66a595165527/Tech/git/vikram0230/Customer-Analysis-System/final_pipeline.ipynb#X26sZmlsZQ%3D%3D?line=4'>5</a>\u001b[0m \u001b[39mfrom\u001b[39;00m \u001b[39msklearn\u001b[39;00m\u001b[39m.\u001b[39;00m\u001b[39mensemble\u001b[39;00m \u001b[39mimport\u001b[39;00m RandomForestRegressor,ExtraTreesClassifier,AdaBoostRegressor,GradientBoostingRegressor\n\u001b[0;32m----> <a href='vscode-notebook-cell:/mnt/c5e89ef0-3911-40b8-95d9-66a595165527/Tech/git/vikram0230/Customer-Analysis-System/final_pipeline.ipynb#X26sZmlsZQ%3D%3D?line=6'>7</a>\u001b[0m full_transformer\u001b[39m.\u001b[39mfit(X_train,y_train)\n\u001b[1;32m      <a href='vscode-notebook-cell:/mnt/c5e89ef0-3911-40b8-95d9-66a595165527/Tech/git/vikram0230/Customer-Analysis-System/final_pipeline.ipynb#X26sZmlsZQ%3D%3D?line=7'>8</a>\u001b[0m X_train_transformed \u001b[39m=\u001b[39m full_transformer\u001b[39m.\u001b[39mtransform(X_train)\n\u001b[1;32m      <a href='vscode-notebook-cell:/mnt/c5e89ef0-3911-40b8-95d9-66a595165527/Tech/git/vikram0230/Customer-Analysis-System/final_pipeline.ipynb#X26sZmlsZQ%3D%3D?line=8'>9</a>\u001b[0m X_val_transformed \u001b[39m=\u001b[39m full_transformer\u001b[39m.\u001b[39mtransform(X_val)\n",
      "\u001b[0;31mNameError\u001b[0m: name 'full_transformer' is not defined"
     ]
    }
   ],
   "source": [
    "# PCA with KMeans\n",
    "\n",
    "from sklearn.decomposition import PCA,TruncatedSVD\n",
    "from sklearn.cluster import KMeans\n",
    "from sklearn.ensemble import RandomForestRegressor,ExtraTreesClassifier,AdaBoostRegressor,GradientBoostingRegressor\n",
    "\n",
    "full_transformer.fit(X_train,y_train)\n",
    "X_train_transformed = full_transformer.transform(X_train)\n",
    "X_val_transformed = full_transformer.transform(X_val)\n",
    "\n",
    "model_pipeline_pca = Pipeline([\n",
    "    ('pca', TruncatedSVD(n_components=50)),\n",
    "    ('kmeans', KMeans()),\n",
    "    ('forest_reg', RandomForestRegressor(n_estimators=200,n_jobs=10))\n",
    "])\n",
    "\n",
    "model_pipeline_pca.fit(X_train_transformed,y_train)\n",
    "y_pred = model_pipeline_pca.predict(X_val_transformed)\n",
    "\n",
    "print(f'-Train score: {model_pipeline_pca.score(X_train_transformed,y_train)}')\n",
    "print(f'-Val score: {model_pipeline_pca.score(X_val_transformed,y_val)}')\n",
    "\n",
    "\n",
    "# test_model(model_pipeline_pca)"
   ]
  },
  {
   "cell_type": "code",
   "execution_count": 14,
   "metadata": {},
   "outputs": [
    {
     "data": {
      "text/html": [
       "<style>#sk-container-id-1 {color: black;background-color: white;}#sk-container-id-1 pre{padding: 0;}#sk-container-id-1 div.sk-toggleable {background-color: white;}#sk-container-id-1 label.sk-toggleable__label {cursor: pointer;display: block;width: 100%;margin-bottom: 0;padding: 0.3em;box-sizing: border-box;text-align: center;}#sk-container-id-1 label.sk-toggleable__label-arrow:before {content: \"▸\";float: left;margin-right: 0.25em;color: #696969;}#sk-container-id-1 label.sk-toggleable__label-arrow:hover:before {color: black;}#sk-container-id-1 div.sk-estimator:hover label.sk-toggleable__label-arrow:before {color: black;}#sk-container-id-1 div.sk-toggleable__content {max-height: 0;max-width: 0;overflow: hidden;text-align: left;background-color: #f0f8ff;}#sk-container-id-1 div.sk-toggleable__content pre {margin: 0.2em;color: black;border-radius: 0.25em;background-color: #f0f8ff;}#sk-container-id-1 input.sk-toggleable__control:checked~div.sk-toggleable__content {max-height: 200px;max-width: 100%;overflow: auto;}#sk-container-id-1 input.sk-toggleable__control:checked~label.sk-toggleable__label-arrow:before {content: \"▾\";}#sk-container-id-1 div.sk-estimator input.sk-toggleable__control:checked~label.sk-toggleable__label {background-color: #d4ebff;}#sk-container-id-1 div.sk-label input.sk-toggleable__control:checked~label.sk-toggleable__label {background-color: #d4ebff;}#sk-container-id-1 input.sk-hidden--visually {border: 0;clip: rect(1px 1px 1px 1px);clip: rect(1px, 1px, 1px, 1px);height: 1px;margin: -1px;overflow: hidden;padding: 0;position: absolute;width: 1px;}#sk-container-id-1 div.sk-estimator {font-family: monospace;background-color: #f0f8ff;border: 1px dotted black;border-radius: 0.25em;box-sizing: border-box;margin-bottom: 0.5em;}#sk-container-id-1 div.sk-estimator:hover {background-color: #d4ebff;}#sk-container-id-1 div.sk-parallel-item::after {content: \"\";width: 100%;border-bottom: 1px solid gray;flex-grow: 1;}#sk-container-id-1 div.sk-label:hover label.sk-toggleable__label {background-color: #d4ebff;}#sk-container-id-1 div.sk-serial::before {content: \"\";position: absolute;border-left: 1px solid gray;box-sizing: border-box;top: 0;bottom: 0;left: 50%;z-index: 0;}#sk-container-id-1 div.sk-serial {display: flex;flex-direction: column;align-items: center;background-color: white;padding-right: 0.2em;padding-left: 0.2em;position: relative;}#sk-container-id-1 div.sk-item {position: relative;z-index: 1;}#sk-container-id-1 div.sk-parallel {display: flex;align-items: stretch;justify-content: center;background-color: white;position: relative;}#sk-container-id-1 div.sk-item::before, #sk-container-id-1 div.sk-parallel-item::before {content: \"\";position: absolute;border-left: 1px solid gray;box-sizing: border-box;top: 0;bottom: 0;left: 50%;z-index: -1;}#sk-container-id-1 div.sk-parallel-item {display: flex;flex-direction: column;z-index: 1;position: relative;background-color: white;}#sk-container-id-1 div.sk-parallel-item:first-child::after {align-self: flex-end;width: 50%;}#sk-container-id-1 div.sk-parallel-item:last-child::after {align-self: flex-start;width: 50%;}#sk-container-id-1 div.sk-parallel-item:only-child::after {width: 0;}#sk-container-id-1 div.sk-dashed-wrapped {border: 1px dashed gray;margin: 0 0.4em 0.5em 0.4em;box-sizing: border-box;padding-bottom: 0.4em;background-color: white;}#sk-container-id-1 div.sk-label label {font-family: monospace;font-weight: bold;display: inline-block;line-height: 1.2em;}#sk-container-id-1 div.sk-label-container {text-align: center;}#sk-container-id-1 div.sk-container {/* jupyter's `normalize.less` sets `[hidden] { display: none; }` but bootstrap.min.css set `[hidden] { display: none !important; }` so we also need the `!important` here to be able to override the default hidden behavior on the sphinx rendered scikit-learn.org. See: https://github.com/scikit-learn/scikit-learn/issues/21755 */display: inline-block !important;position: relative;}#sk-container-id-1 div.sk-text-repr-fallback {display: none;}</style><div id=\"sk-container-id-1\" class=\"sk-top-container\"><div class=\"sk-text-repr-fallback\"><pre>TruncatedSVD()</pre><b>In a Jupyter environment, please rerun this cell to show the HTML representation or trust the notebook. <br />On GitHub, the HTML representation is unable to render, please try loading this page with nbviewer.org.</b></div><div class=\"sk-container\" hidden><div class=\"sk-item\"><div class=\"sk-estimator sk-toggleable\"><input class=\"sk-toggleable__control sk-hidden--visually\" id=\"sk-estimator-id-1\" type=\"checkbox\" checked><label for=\"sk-estimator-id-1\" class=\"sk-toggleable__label sk-toggleable__label-arrow\">TruncatedSVD</label><div class=\"sk-toggleable__content\"><pre>TruncatedSVD()</pre></div></div></div></div></div>"
      ],
      "text/plain": [
       "TruncatedSVD()"
      ]
     },
     "execution_count": 14,
     "metadata": {},
     "output_type": "execute_result"
    }
   ],
   "source": [
    "from sklearn.decomposition import PCA,TruncatedSVD\n",
    "\n",
    "svd = TruncatedSVD()\n",
    "\n",
    "svd.fit(X_train_transformed)"
   ]
  },
  {
   "cell_type": "code",
   "execution_count": 16,
   "metadata": {},
   "outputs": [
    {
     "data": {
      "text/plain": [
       "(55486, 2)"
      ]
     },
     "execution_count": 16,
     "metadata": {},
     "output_type": "execute_result"
    }
   ],
   "source": [
    "trans = svd.fit_transform(X_train_transformed)\n",
    "X_train_transformed.shape, trans.shape "
   ]
  },
  {
   "cell_type": "code",
   "execution_count": 17,
   "metadata": {},
   "outputs": [
    {
     "data": {
      "text/plain": [
       "array([[ 2.11084818,  2.07338378],\n",
       "       [ 2.56847194, -1.09083379],\n",
       "       [ 2.79927329, -0.52270624],\n",
       "       ...,\n",
       "       [ 2.00360391, -0.24018114],\n",
       "       [ 1.94718158,  2.2946249 ],\n",
       "       [ 0.95843106, -0.86976872]])"
      ]
     },
     "execution_count": 17,
     "metadata": {},
     "output_type": "execute_result"
    }
   ],
   "source": [
    "trans"
   ]
  },
  {
   "cell_type": "code",
   "execution_count": null,
   "metadata": {},
   "outputs": [],
   "source": []
  }
 ],
 "metadata": {
  "kernelspec": {
   "display_name": "Python 3 (ipykernel)",
   "language": "python",
   "name": "python3"
  },
  "orig_nbformat": 4,
  "vscode": {
   "interpreter": {
    "hash": "e7370f93d1d0cde622a1f8e1c04877d8463912d04d973331ad4851f04de6915a"
   }
  }
 },
 "nbformat": 4,
 "nbformat_minor": 2
}
